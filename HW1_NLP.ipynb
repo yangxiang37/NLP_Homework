{
 "cells": [
  {
   "cell_type": "code",
   "execution_count": 180,
   "metadata": {},
   "outputs": [],
   "source": [
    "import pandas as pd"
   ]
  },
  {
   "cell_type": "code",
   "execution_count": 181,
   "metadata": {},
   "outputs": [],
   "source": [
    "data=pd.read_csv('Food_Inspections.csv')"
   ]
  },
  {
   "cell_type": "code",
   "execution_count": 182,
   "metadata": {},
   "outputs": [
    {
     "data": {
      "text/plain": [
       "['Inspection ID',\n",
       " 'DBA Name',\n",
       " 'AKA Name',\n",
       " 'License #',\n",
       " 'Facility Type',\n",
       " 'Risk',\n",
       " 'Address',\n",
       " 'City',\n",
       " 'State',\n",
       " 'Zip',\n",
       " 'Inspection Date',\n",
       " 'Inspection Type',\n",
       " 'Results',\n",
       " 'Violations',\n",
       " 'Latitude',\n",
       " 'Longitude',\n",
       " 'Location']"
      ]
     },
     "execution_count": 182,
     "metadata": {},
     "output_type": "execute_result"
    }
   ],
   "source": [
    "list(data.columns)"
   ]
  },
  {
   "cell_type": "code",
   "execution_count": 183,
   "metadata": {},
   "outputs": [
    {
     "data": {
      "text/html": [
       "<div>\n",
       "<style scoped>\n",
       "    .dataframe tbody tr th:only-of-type {\n",
       "        vertical-align: middle;\n",
       "    }\n",
       "\n",
       "    .dataframe tbody tr th {\n",
       "        vertical-align: top;\n",
       "    }\n",
       "\n",
       "    .dataframe thead th {\n",
       "        text-align: right;\n",
       "    }\n",
       "</style>\n",
       "<table border=\"1\" class=\"dataframe\">\n",
       "  <thead>\n",
       "    <tr style=\"text-align: right;\">\n",
       "      <th></th>\n",
       "      <th>Inspection ID</th>\n",
       "      <th>DBA Name</th>\n",
       "      <th>AKA Name</th>\n",
       "      <th>License #</th>\n",
       "      <th>Facility Type</th>\n",
       "      <th>Risk</th>\n",
       "      <th>Address</th>\n",
       "      <th>City</th>\n",
       "      <th>State</th>\n",
       "      <th>Zip</th>\n",
       "      <th>Inspection Date</th>\n",
       "      <th>Inspection Type</th>\n",
       "      <th>Results</th>\n",
       "      <th>Violations</th>\n",
       "      <th>Latitude</th>\n",
       "      <th>Longitude</th>\n",
       "      <th>Location</th>\n",
       "    </tr>\n",
       "  </thead>\n",
       "  <tbody>\n",
       "    <tr>\n",
       "      <th>0</th>\n",
       "      <td>2185053</td>\n",
       "      <td>NEW HONG KONG BUFFET, INC</td>\n",
       "      <td>NEW HONG KONG BUFFET</td>\n",
       "      <td>2510903.0</td>\n",
       "      <td>Restaurant</td>\n",
       "      <td>Risk 1 (High)</td>\n",
       "      <td>6249 N MCCORMICK RD</td>\n",
       "      <td>CHICAGO</td>\n",
       "      <td>IL</td>\n",
       "      <td>60659.0</td>\n",
       "      <td>07/25/2018</td>\n",
       "      <td>Complaint</td>\n",
       "      <td>Pass w/ Conditions</td>\n",
       "      <td>3. MANAGEMENT, FOOD EMPLOYEE AND CONDITIONAL E...</td>\n",
       "      <td>41.995441</td>\n",
       "      <td>-87.712917</td>\n",
       "      <td>(41.995440602185084, -87.71291737890452)</td>\n",
       "    </tr>\n",
       "    <tr>\n",
       "      <th>1</th>\n",
       "      <td>2365877</td>\n",
       "      <td>STEVE'S 77 ICE CREAM</td>\n",
       "      <td>STEVE'S 77  ICE CREAM</td>\n",
       "      <td>2451374.0</td>\n",
       "      <td>Mobile Frozen Desserts Vendor</td>\n",
       "      <td>Risk 3 (Low)</td>\n",
       "      <td>7451 W 100TH PL</td>\n",
       "      <td>BRIDGEVIEW</td>\n",
       "      <td>IL</td>\n",
       "      <td>60455.0</td>\n",
       "      <td>03/17/2020</td>\n",
       "      <td>License</td>\n",
       "      <td>Pass</td>\n",
       "      <td>37. FOOD PROPERLY LABELED; ORIGINAL CONTAINER ...</td>\n",
       "      <td>NaN</td>\n",
       "      <td>NaN</td>\n",
       "      <td>NaN</td>\n",
       "    </tr>\n",
       "    <tr>\n",
       "      <th>2</th>\n",
       "      <td>2365636</td>\n",
       "      <td>Morgan Park(H/S)</td>\n",
       "      <td>Morgan Park(H/S)</td>\n",
       "      <td>46251.0</td>\n",
       "      <td>School</td>\n",
       "      <td>Risk 1 (High)</td>\n",
       "      <td>1744 W Pryor (11156 S)</td>\n",
       "      <td>CHICAGO</td>\n",
       "      <td>IL</td>\n",
       "      <td>60643.0</td>\n",
       "      <td>03/12/2020</td>\n",
       "      <td>Canvass</td>\n",
       "      <td>Pass</td>\n",
       "      <td>NaN</td>\n",
       "      <td>NaN</td>\n",
       "      <td>NaN</td>\n",
       "      <td>NaN</td>\n",
       "    </tr>\n",
       "    <tr>\n",
       "      <th>3</th>\n",
       "      <td>2185115</td>\n",
       "      <td>SIMPLY IT</td>\n",
       "      <td>SIMPLY IT</td>\n",
       "      <td>1765716.0</td>\n",
       "      <td>Restaurant</td>\n",
       "      <td>Risk 1 (High)</td>\n",
       "      <td>2269 N LINCOLN AVE</td>\n",
       "      <td>CHICAGO</td>\n",
       "      <td>IL</td>\n",
       "      <td>60614.0</td>\n",
       "      <td>07/26/2018</td>\n",
       "      <td>Suspected Food Poisoning</td>\n",
       "      <td>Pass w/ Conditions</td>\n",
       "      <td>3. MANAGEMENT, FOOD EMPLOYEE AND CONDITIONAL E...</td>\n",
       "      <td>41.923490</td>\n",
       "      <td>-87.645814</td>\n",
       "      <td>(41.92348957806372, -87.6458144355942)</td>\n",
       "    </tr>\n",
       "    <tr>\n",
       "      <th>4</th>\n",
       "      <td>2222745</td>\n",
       "      <td>MY BUDDY'S</td>\n",
       "      <td>MY BUDDY'S</td>\n",
       "      <td>21943.0</td>\n",
       "      <td>Restaurant</td>\n",
       "      <td>Risk 1 (High)</td>\n",
       "      <td>4416 N CLARK ST</td>\n",
       "      <td>CHICAGO</td>\n",
       "      <td>IL</td>\n",
       "      <td>60640.0</td>\n",
       "      <td>09/21/2018</td>\n",
       "      <td>Canvass</td>\n",
       "      <td>Fail</td>\n",
       "      <td>2. CITY OF CHICAGO FOOD SERVICE SANITATION CER...</td>\n",
       "      <td>41.962160</td>\n",
       "      <td>-87.666219</td>\n",
       "      <td>(41.962159720050074, -87.6662185738834)</td>\n",
       "    </tr>\n",
       "  </tbody>\n",
       "</table>\n",
       "</div>"
      ],
      "text/plain": [
       "   Inspection ID                   DBA Name               AKA Name  License #  \\\n",
       "0        2185053  NEW HONG KONG BUFFET, INC   NEW HONG KONG BUFFET  2510903.0   \n",
       "1        2365877       STEVE'S 77 ICE CREAM  STEVE'S 77  ICE CREAM  2451374.0   \n",
       "2        2365636           Morgan Park(H/S)       Morgan Park(H/S)    46251.0   \n",
       "3        2185115                  SIMPLY IT              SIMPLY IT  1765716.0   \n",
       "4        2222745                 MY BUDDY'S             MY BUDDY'S    21943.0   \n",
       "\n",
       "                   Facility Type           Risk                  Address  \\\n",
       "0                     Restaurant  Risk 1 (High)      6249 N MCCORMICK RD   \n",
       "1  Mobile Frozen Desserts Vendor   Risk 3 (Low)         7451 W 100TH PL    \n",
       "2                         School  Risk 1 (High)  1744 W Pryor (11156 S)    \n",
       "3                     Restaurant  Risk 1 (High)       2269 N LINCOLN AVE   \n",
       "4                     Restaurant  Risk 1 (High)          4416 N CLARK ST   \n",
       "\n",
       "         City State      Zip Inspection Date           Inspection Type  \\\n",
       "0     CHICAGO    IL  60659.0      07/25/2018                 Complaint   \n",
       "1  BRIDGEVIEW    IL  60455.0      03/17/2020                   License   \n",
       "2     CHICAGO    IL  60643.0      03/12/2020                   Canvass   \n",
       "3     CHICAGO    IL  60614.0      07/26/2018  Suspected Food Poisoning   \n",
       "4     CHICAGO    IL  60640.0      09/21/2018                   Canvass   \n",
       "\n",
       "              Results                                         Violations  \\\n",
       "0  Pass w/ Conditions  3. MANAGEMENT, FOOD EMPLOYEE AND CONDITIONAL E...   \n",
       "1                Pass  37. FOOD PROPERLY LABELED; ORIGINAL CONTAINER ...   \n",
       "2                Pass                                                NaN   \n",
       "3  Pass w/ Conditions  3. MANAGEMENT, FOOD EMPLOYEE AND CONDITIONAL E...   \n",
       "4                Fail  2. CITY OF CHICAGO FOOD SERVICE SANITATION CER...   \n",
       "\n",
       "    Latitude  Longitude                                  Location  \n",
       "0  41.995441 -87.712917  (41.995440602185084, -87.71291737890452)  \n",
       "1        NaN        NaN                                       NaN  \n",
       "2        NaN        NaN                                       NaN  \n",
       "3  41.923490 -87.645814    (41.92348957806372, -87.6458144355942)  \n",
       "4  41.962160 -87.666219   (41.962159720050074, -87.6662185738834)  "
      ]
     },
     "execution_count": 183,
     "metadata": {},
     "output_type": "execute_result"
    }
   ],
   "source": [
    "data.head()"
   ]
  },
  {
   "cell_type": "code",
   "execution_count": 184,
   "metadata": {},
   "outputs": [
    {
     "data": {
      "text/html": [
       "<div>\n",
       "<style scoped>\n",
       "    .dataframe tbody tr th:only-of-type {\n",
       "        vertical-align: middle;\n",
       "    }\n",
       "\n",
       "    .dataframe tbody tr th {\n",
       "        vertical-align: top;\n",
       "    }\n",
       "\n",
       "    .dataframe thead th {\n",
       "        text-align: right;\n",
       "    }\n",
       "</style>\n",
       "<table border=\"1\" class=\"dataframe\">\n",
       "  <thead>\n",
       "    <tr style=\"text-align: right;\">\n",
       "      <th></th>\n",
       "      <th>Inspection ID</th>\n",
       "      <th>License #</th>\n",
       "      <th>Zip</th>\n",
       "      <th>Latitude</th>\n",
       "      <th>Longitude</th>\n",
       "    </tr>\n",
       "  </thead>\n",
       "  <tbody>\n",
       "    <tr>\n",
       "      <th>count</th>\n",
       "      <td>2.043890e+05</td>\n",
       "      <td>2.043720e+05</td>\n",
       "      <td>204336.000000</td>\n",
       "      <td>203701.000000</td>\n",
       "      <td>203701.000000</td>\n",
       "    </tr>\n",
       "    <tr>\n",
       "      <th>mean</th>\n",
       "      <td>1.482846e+06</td>\n",
       "      <td>1.612839e+06</td>\n",
       "      <td>60628.720901</td>\n",
       "      <td>41.881050</td>\n",
       "      <td>-87.676454</td>\n",
       "    </tr>\n",
       "    <tr>\n",
       "      <th>std</th>\n",
       "      <td>6.465879e+05</td>\n",
       "      <td>8.991979e+05</td>\n",
       "      <td>119.728164</td>\n",
       "      <td>0.080922</td>\n",
       "      <td>0.058874</td>\n",
       "    </tr>\n",
       "    <tr>\n",
       "      <th>min</th>\n",
       "      <td>4.424700e+04</td>\n",
       "      <td>0.000000e+00</td>\n",
       "      <td>10014.000000</td>\n",
       "      <td>41.644670</td>\n",
       "      <td>-87.914428</td>\n",
       "    </tr>\n",
       "    <tr>\n",
       "      <th>25%</th>\n",
       "      <td>1.154704e+06</td>\n",
       "      <td>1.228089e+06</td>\n",
       "      <td>60614.000000</td>\n",
       "      <td>41.833940</td>\n",
       "      <td>-87.707331</td>\n",
       "    </tr>\n",
       "    <tr>\n",
       "      <th>50%</th>\n",
       "      <td>1.502078e+06</td>\n",
       "      <td>1.981963e+06</td>\n",
       "      <td>60625.000000</td>\n",
       "      <td>41.891797</td>\n",
       "      <td>-87.666317</td>\n",
       "    </tr>\n",
       "    <tr>\n",
       "      <th>75%</th>\n",
       "      <td>2.064660e+06</td>\n",
       "      <td>2.253109e+06</td>\n",
       "      <td>60643.000000</td>\n",
       "      <td>41.939792</td>\n",
       "      <td>-87.634815</td>\n",
       "    </tr>\n",
       "    <tr>\n",
       "      <th>max</th>\n",
       "      <td>2.367209e+06</td>\n",
       "      <td>9.999999e+06</td>\n",
       "      <td>60827.000000</td>\n",
       "      <td>42.021064</td>\n",
       "      <td>-87.525094</td>\n",
       "    </tr>\n",
       "  </tbody>\n",
       "</table>\n",
       "</div>"
      ],
      "text/plain": [
       "       Inspection ID     License #            Zip       Latitude  \\\n",
       "count   2.043890e+05  2.043720e+05  204336.000000  203701.000000   \n",
       "mean    1.482846e+06  1.612839e+06   60628.720901      41.881050   \n",
       "std     6.465879e+05  8.991979e+05     119.728164       0.080922   \n",
       "min     4.424700e+04  0.000000e+00   10014.000000      41.644670   \n",
       "25%     1.154704e+06  1.228089e+06   60614.000000      41.833940   \n",
       "50%     1.502078e+06  1.981963e+06   60625.000000      41.891797   \n",
       "75%     2.064660e+06  2.253109e+06   60643.000000      41.939792   \n",
       "max     2.367209e+06  9.999999e+06   60827.000000      42.021064   \n",
       "\n",
       "           Longitude  \n",
       "count  203701.000000  \n",
       "mean      -87.676454  \n",
       "std         0.058874  \n",
       "min       -87.914428  \n",
       "25%       -87.707331  \n",
       "50%       -87.666317  \n",
       "75%       -87.634815  \n",
       "max       -87.525094  "
      ]
     },
     "execution_count": 184,
     "metadata": {},
     "output_type": "execute_result"
    }
   ],
   "source": [
    "data.describe()"
   ]
  },
  {
   "cell_type": "code",
   "execution_count": 185,
   "metadata": {},
   "outputs": [
    {
     "data": {
      "text/plain": [
       "(204389, 17)"
      ]
     },
     "execution_count": 185,
     "metadata": {},
     "output_type": "execute_result"
    }
   ],
   "source": [
    "data.shape"
   ]
  },
  {
   "cell_type": "code",
   "execution_count": 186,
   "metadata": {},
   "outputs": [
    {
     "data": {
      "text/plain": [
       "Pass                    108500\n",
       "Fail                     39475\n",
       "Pass w/ Conditions       29880\n",
       "Out of Business          17656\n",
       "No Entry                  6762\n",
       "Not Ready                 2044\n",
       "Business Not Located        72\n",
       "Name: Results, dtype: int64"
      ]
     },
     "execution_count": 186,
     "metadata": {},
     "output_type": "execute_result"
    }
   ],
   "source": [
    "#1. Downselect records corresponding to failed inspection (see \"Results\" column)\n",
    "data['Results'].value_counts()"
   ]
  },
  {
   "cell_type": "code",
   "execution_count": 187,
   "metadata": {},
   "outputs": [],
   "source": [
    "#2. Clean the data, making sure that there are no NaNs in \"Violations\" column\n",
    "data=data.dropna(subset=['Violations'])"
   ]
  },
  {
   "cell_type": "code",
   "execution_count": 188,
   "metadata": {},
   "outputs": [
    {
     "data": {
      "text/plain": [
       "(150106, 17)"
      ]
     },
     "execution_count": 188,
     "metadata": {},
     "output_type": "execute_result"
    }
   ],
   "source": [
    "data.shape"
   ]
  },
  {
   "cell_type": "code",
   "execution_count": 189,
   "metadata": {},
   "outputs": [],
   "source": [
    "data=data.reset_index(drop=True)"
   ]
  },
  {
   "cell_type": "markdown",
   "metadata": {},
   "source": [
    "###### 3. \"Violations\" column lists the reasons for inspection failure. Those reasons are separated by \"|\".  Each reason consists of a regulation code, regulation description and comments describing how the regulation was violated. "
   ]
  },
  {
   "cell_type": "code",
   "execution_count": 190,
   "metadata": {},
   "outputs": [
    {
     "data": {
      "text/plain": [
       "0     3. MANAGEMENT, FOOD EMPLOYEE AND CONDITIONAL E...\n",
       "1     37. FOOD PROPERLY LABELED; ORIGINAL CONTAINER ...\n",
       "2     3. MANAGEMENT, FOOD EMPLOYEE AND CONDITIONAL E...\n",
       "3     2. CITY OF CHICAGO FOOD SERVICE SANITATION CER...\n",
       "4     8. SANITIZING RINSE FOR EQUIPMENT AND UTENSILS...\n",
       "5     3. MANAGEMENT, FOOD EMPLOYEE AND CONDITIONAL E...\n",
       "6     32. FOOD AND NON-FOOD CONTACT SURFACES PROPERL...\n",
       "7     34. FLOORS: CONSTRUCTED PER CODE, CLEANED, GOO...\n",
       "8     3. MANAGEMENT, FOOD EMPLOYEE AND CONDITIONAL E...\n",
       "9     3. MANAGEMENT, FOOD EMPLOYEE AND CONDITIONAL E...\n",
       "10    55. PHYSICAL FACILITIES INSTALLED, MAINTAINED ...\n",
       "11    3. MANAGEMENT, FOOD EMPLOYEE AND CONDITIONAL E...\n",
       "12    3. POTENTIALLY HAZARDOUS FOOD MEETS TEMPERATUR...\n",
       "13    22. PROPER COLD HOLDING TEMPERATURES - Comment...\n",
       "14    3. MANAGEMENT, FOOD EMPLOYEE AND CONDITIONAL E...\n",
       "15    30. FOOD IN ORIGINAL CONTAINER, PROPERLY LABEL...\n",
       "16    1. SOURCE SOUND CONDITION, NO SPOILAGE, FOODS ...\n",
       "17    5. PROCEDURES FOR RESPONDING TO VOMITING AND D...\n",
       "18    55. PHYSICAL FACILITIES INSTALLED, MAINTAINED ...\n",
       "19    3. MANAGEMENT, FOOD EMPLOYEE AND CONDITIONAL E...\n",
       "Name: Violations, dtype: object"
      ]
     },
     "execution_count": 190,
     "metadata": {},
     "output_type": "execute_result"
    }
   ],
   "source": [
    "data['Violations'].head(20)"
   ]
  },
  {
   "cell_type": "code",
   "execution_count": 191,
   "metadata": {},
   "outputs": [],
   "source": [
    "#4. Using regular expression, parse \"Violations\" column to select only regulation descriptions\n",
    "import re"
   ]
  },
  {
   "cell_type": "code",
   "execution_count": 192,
   "metadata": {},
   "outputs": [],
   "source": [
    "data['regulation_descriptions']=data['Violations'].apply(lambda x: re.findall('[\\w\\s]+. [\\w\\s\\d\\:\\,\\&\\;\\-\\/]+Comments', x))"
   ]
  },
  {
   "cell_type": "code",
   "execution_count": 198,
   "metadata": {},
   "outputs": [],
   "source": [
    "import numpy as np"
   ]
  },
  {
   "cell_type": "code",
   "execution_count": 199,
   "metadata": {},
   "outputs": [],
   "source": [
    "regulation_descriptions_total=np.concatenate(data['regulation_descriptions'])"
   ]
  },
  {
   "cell_type": "code",
   "execution_count": 200,
   "metadata": {},
   "outputs": [],
   "source": [
    "#5.Count how many times each regulation description occurred in the table (hint: from collections import Counter"
   ]
  },
  {
   "cell_type": "code",
   "execution_count": 201,
   "metadata": {},
   "outputs": [],
   "source": [
    "from collections import Counter"
   ]
  },
  {
   "cell_type": "code",
   "execution_count": 207,
   "metadata": {},
   "outputs": [
    {
     "ename": "AttributeError",
     "evalue": "'Counter' object has no attribute 'head'",
     "output_type": "error",
     "traceback": [
      "\u001b[0;31m---------------------------------------------------------------------------\u001b[0m",
      "\u001b[0;31mAttributeError\u001b[0m                            Traceback (most recent call last)",
      "\u001b[0;32m<ipython-input-207-9f1c79d13500>\u001b[0m in \u001b[0;36m<module>\u001b[0;34m\u001b[0m\n\u001b[0;32m----> 1\u001b[0;31m \u001b[0mCounter\u001b[0m\u001b[0;34m(\u001b[0m\u001b[0mregulation_descriptions_total\u001b[0m\u001b[0;34m)\u001b[0m\u001b[0;34m.\u001b[0m\u001b[0mhead\u001b[0m\u001b[0;34m(\u001b[0m\u001b[0;34m)\u001b[0m\u001b[0;34m\u001b[0m\u001b[0;34m\u001b[0m\u001b[0m\n\u001b[0m",
      "\u001b[0;31mAttributeError\u001b[0m: 'Counter' object has no attribute 'head'"
     ]
    }
   ],
   "source": [
    "Counter(regulation_descriptions_total).head()"
   ]
  },
  {
   "cell_type": "code",
   "execution_count": 208,
   "metadata": {},
   "outputs": [],
   "source": [
    "#6.Show top-10 the most frequent regulation descriptions\n",
    "top10=Counter(regulation_descriptions_total).most_common(11)"
   ]
  },
  {
   "cell_type": "code",
   "execution_count": 209,
   "metadata": {},
   "outputs": [
    {
     "data": {
      "text/plain": [
       "[(' 34. FLOORS: CONSTRUCTED PER CODE, CLEANED, GOOD REPAIR, COVING INSTALLED, DUST-LESS CLEANING METHODS USED - Comments',\n",
       "  59823),\n",
       " (' 35. WALLS, CEILINGS, ATTACHED EQUIPMENT CONSTRUCTED PER CODE: GOOD REPAIR, SURFACES CLEAN AND DUST-LESS CLEANING METHODS - Comments',\n",
       "  57660),\n",
       " (' 38. VENTILATION: ROOMS AND EQUIPMENT VENTED AS REQUIRED: PLUMBING: INSTALLED AND MAINTAINED - Comments',\n",
       "  49277),\n",
       " (' 33. FOOD AND NON-FOOD CONTACT EQUIPMENT UTENSILS CLEAN, FREE OF ABRASIVE DETERGENTS - Comments',\n",
       "  44300),\n",
       " (' 41. PREMISES MAINTAINED FREE OF LITTER, UNNECESSARY ARTICLES, CLEANING  EQUIPMENT PROPERLY STORED - Comments',\n",
       "  31530),\n",
       " (' 32. FOOD AND NON-FOOD CONTACT SURFACES PROPERLY DESIGNED, CONSTRUCTED AND MAINTAINED - Comments',\n",
       "  28668),\n",
       " ('32. FOOD AND NON-FOOD CONTACT SURFACES PROPERLY DESIGNED, CONSTRUCTED AND MAINTAINED - Comments',\n",
       "  24821),\n",
       " (' 36. LIGHTING: REQUIRED MINIMUM FOOT-CANDLES OF LIGHT PROVIDED, FIXTURES SHIELDED - Comments',\n",
       "  23669),\n",
       " (' 55. PHYSICAL FACILITIES INSTALLED, MAINTAINED & CLEAN - Comments', 20070),\n",
       " ('33. FOOD AND NON-FOOD CONTACT EQUIPMENT UTENSILS CLEAN, FREE OF ABRASIVE DETERGENTS - Comments',\n",
       "  17268),\n",
       " (' 40. REFRIGERATION AND METAL STEM THERMOMETERS PROVIDED AND CONSPICUOUS - Comments',\n",
       "  14027)]"
      ]
     },
     "execution_count": 209,
     "metadata": {},
     "output_type": "execute_result"
    }
   ],
   "source": [
    "#7.Your final output should be a Jupyter notebook showing all your code and the results so that one can easily reproduce them\n",
    "top10"
   ]
  },
  {
   "cell_type": "code",
   "execution_count": 90,
   "metadata": {},
   "outputs": [],
   "source": [
    "#8. Remember: you are presenting it to your boss and have very limited amount of time to state your case. Your presentation should be as clear and short as possible but complete."
   ]
  },
  {
   "cell_type": "markdown",
   "metadata": {},
   "source": [
    "### Top 10 \n",
    "\n",
    "##### No.1 FLOORS: CONSTRUCTED PER CODE, CLEANED, GOOD REPAIR, COVING INSTALLED, DUST-LESS CLEANING METHODS USED\n",
    "##### No.2 WALLS, CEILINGS, ATTACHED EQUIPMENT CONSTRUCTED PER CODE: GOOD REPAIR, SURFACES CLEAN AND DUST-LESS CLEANING METHODS\n",
    "##### No.3 VENTILATION: ROOMS AND EQUIPMENT VENTED AS REQUIRED: PLUMBING: INSTALLED AND MAINTAINED\n",
    "##### No.4 FOOD AND NON-FOOD CONTACT EQUIPMENT UTENSILS CLEAN, FREE OF ABRASIVE DETERGENTS\n",
    "##### No.5 PREMISES MAINTAINED FREE OF LITTER, UNNECESSARY ARTICLES, CLEANING  EQUIPMENT PROPERLY STORED\n",
    "##### No.6 FOOD AND NON-FOOD CONTACT SURFACES PROPERLY DESIGNED, CONSTRUCTED AND MAINTAINED\n",
    "##### No.7 LIGHTING: REQUIRED MINIMUM FOOT-CANDLES OF LIGHT PROVIDED, FIXTURES SHIELDED\n",
    "##### No.8 PHYSICAL FACILITIES INSTALLED, MAINTAINED & CLEAN\n",
    "##### No.9 FOOD AND NON-FOOD CONTACT EQUIPMENT UTENSILS CLEAN, FREE OF ABRASIVE DETERGENTS\n",
    "##### No.10 REFRIGERATION AND METAL STEM THERMOMETERS PROVIDED AND CONSPICUOUS"
   ]
  },
  {
   "cell_type": "code",
   "execution_count": null,
   "metadata": {},
   "outputs": [],
   "source": []
  }
 ],
 "metadata": {
  "kernelspec": {
   "display_name": "Python 3",
   "language": "python",
   "name": "python3"
  },
  "language_info": {
   "codemirror_mode": {
    "name": "ipython",
    "version": 3
   },
   "file_extension": ".py",
   "mimetype": "text/x-python",
   "name": "python",
   "nbconvert_exporter": "python",
   "pygments_lexer": "ipython3",
   "version": "3.7.3"
  }
 },
 "nbformat": 4,
 "nbformat_minor": 2
}
