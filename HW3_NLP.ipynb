{
 "cells": [
  {
   "cell_type": "code",
   "execution_count": 85,
   "metadata": {},
   "outputs": [
    {
     "data": {
      "text/plain": [
       "'/Users/yangxiang/A List/Uchicago/2020_Spring/NLP/Week_3/Homework'"
      ]
     },
     "execution_count": 85,
     "metadata": {},
     "output_type": "execute_result"
    }
   ],
   "source": [
    "import os\n",
    "os.getcwd()"
   ]
  },
  {
   "cell_type": "code",
   "execution_count": 86,
   "metadata": {},
   "outputs": [],
   "source": [
    "from __future__ import division\n",
    "import nltk\n",
    "import string\n",
    "import os\n",
    "from nltk.corpus import stopwords\n",
    "from itertools import combinations\n",
    "import matplotlib.pyplot as plt\n",
    "import numpy as np"
   ]
  },
  {
   "cell_type": "code",
   "execution_count": 87,
   "metadata": {},
   "outputs": [],
   "source": [
    "def ngram_compare_files(file1,file2,n):\n",
    "    # Takes two files\n",
    "    # hashes their n-grams into twos lists\n",
    "    # calculates the intersection and union\n",
    "    # of the two lists, and returns\n",
    "    # Jacard similarity value\n",
    " \n",
    "    stop = stopwords.words('english')\n",
    "    f1 = open(file1)\n",
    "    raw = f1.read()\n",
    "    f1.close()\n",
    "    f1_grams = nltk.ngrams(raw.split(),n)\n",
    "    \n",
    "    array_1 = []\n",
    "    \n",
    "    for gram in f1_grams:\n",
    "        array_1.append(hash(gram))\n",
    "    f2 = open(file2)\n",
    "    raw = f2.read()\n",
    "    f2.close()\n",
    "    f2_grams = nltk.ngrams(raw.split(),n)\n",
    "    \n",
    "    array_2 = []\n",
    "    \n",
    "    for gram in f2_grams:\n",
    "        array_2.append(hash(gram))\n",
    "        \n",
    "    intersection = len(list(set(array_1).intersection(array_2)))    \n",
    "    union = len(set(array_1)) + len(set(array_2)) - intersection\n",
    "    jacard_similarity = intersection / union\n",
    "    return jacard_similarity\n",
    "\n",
    "\n",
    "def pairs_of_files(directory):\n",
    "    # returns combination of two files given\n",
    "    # all files in a directory\n",
    "    \n",
    "    dir = os.listdir(directory)\n",
    "    combo = combinations(dir, 2)\n",
    "    return combo\n",
    "\n",
    "def compare_files(directory,ngram_size,threshold):\n",
    "    # compares all pairs of files in a directory\n",
    "    # for similarity.\n",
    "    # RETURNS: Dictionary, with key as\n",
    "    # comma-separated string of two files\n",
    "    # and value of similarity index as decimal\n",
    "    # where similarity index is above threshold\n",
    "    # value.\n",
    "    \n",
    "    compare_dictionary = {}\n",
    "    \n",
    "    ngram = ngram_size\n",
    "    combo = pairs_of_files(directory)\n",
    "    \n",
    "    for i in combo:\n",
    "        \n",
    "        sim = ngram_compare_files(directory+'/'+str(i[0]),directory+'/'+str(i[1]),ngram)\n",
    "        if sim > threshold:\n",
    "            \n",
    "            key = str(i[0]) + \",\" + str(i[1])\n",
    "            value = sim\n",
    "            compare_dictionary[key]=value\n",
    "            \n",
    "    return compare_dictionary   "
   ]
  },
  {
   "cell_type": "markdown",
   "metadata": {},
   "source": [
    "### Determine which articles are similar to each other "
   ]
  },
  {
   "cell_type": "code",
   "execution_count": 88,
   "metadata": {},
   "outputs": [],
   "source": [
    "# Choose the best N for Ngram\n",
    "dir = '/Users/yangxiang/A List/Uchicago/2020_Spring/NLP/Week_3/Homework'"
   ]
  },
  {
   "cell_type": "code",
   "execution_count": 94,
   "metadata": {},
   "outputs": [],
   "source": [
    "x = []\n",
    "y = []\n",
    "yall = []\n",
    "\n",
    "for n in range(2,20):\n",
    "    \n",
    "    art_comparison = compare_files(dir+'/Assignment 3 Articles',ngram_size=n,threshold=-1)\n",
    "    a = np.zeros(len(art_comparison))\n",
    "    counter = 0\n",
    "    for key, value in art_comparison.items():\n",
    "        a[counter] = value\n",
    "        counter +=1\n",
    "    #print str(n) + \":\" + str(a.mean())\n",
    "    x.append(n)\n",
    "    yall.append(a*100)\n",
    "    y.append(a.mean()*100)"
   ]
  },
  {
   "cell_type": "markdown",
   "metadata": {},
   "source": [
    "Notes to myself:threshold 筛选相似度的区分线"
   ]
  },
  {
   "cell_type": "code",
   "execution_count": 95,
   "metadata": {},
   "outputs": [
    {
     "data": {
      "image/png": "[encoded data removed]",
      "text/plain": [
       "<Figure size 432x288 with 1 Axes>"
      ]
     },
     "metadata": {
      "needs_background": "light"
     },
     "output_type": "display_data"
    }
   ],
   "source": [
    "plt.plot(x,y, linestyle = '-')\n",
    "#plt.plot(x,yall, linestyle = '--')\n",
    "plt.xlabel('n in n-grams')\n",
    "plt.ylabel('Similarity (pct)')\n",
    "plt.title('Similarity Across All Articles per N n-gram')\n",
    "plt.grid()\n",
    "plt.show()\n",
    "\n",
    "#I choose n=3"
   ]
  },
  {
   "cell_type": "markdown",
   "metadata": {},
   "source": [
    "Notes to myself: Similarity (pct) 纵坐标是相似度的百分比 取所有数的平均"
   ]
  },
  {
   "cell_type": "markdown",
   "metadata": {},
   "source": [
    "###### Articles measuring similarity"
   ]
  },
  {
   "cell_type": "code",
   "execution_count": 96,
   "metadata": {},
   "outputs": [
    {
     "name": "stdout",
     "output_type": "stream",
     "text": [
      "article10.txt is similar to article13.txt with a Similarity Index of 21.798%\n",
      "\n",
      "\n",
      "article17.txt is similar to article16.txt with a Similarity Index of 72.589%\n",
      "\n",
      "\n",
      "article4.txt is similar to article3.txt with a Similarity Index of 13.592%\n",
      "\n",
      "\n"
     ]
    }
   ],
   "source": [
    "articles_comparison = compare_files(dir+'/Assignment 3 Articles',ngram_size=3,threshold=0.1)\n",
    "\n",
    "\n",
    "for k,v in articles_comparison.items():\n",
    "    art1, art2 = k.split(',')\n",
    "    similarity_index = v\n",
    "    print (str(art1) + \" is similar to \" + str(art2) + \n",
    "           \" with a Similarity Index of \" + '{percent:.3%}'.format(percent=similarity_index) +\"\\n\" +\"\\n\")"
   ]
  },
  {
   "cell_type": "markdown",
   "metadata": {},
   "source": [
    "### Questions Answer (Articles part) :\n",
    "\n",
    "\n",
    "###### Which articles / books were similar and which ones were dissimilar?\n",
    "Similar:\n",
    "article17.txt is similar to article16.txt with a Similarity Index of 72.589% when n=3\n",
    "article10.txt is similar to article13.txt with a Similarity Index of 21.798% when n=3\n",
    "article4.txt is similar to article3.txt with a Similarity Index of 13.592% when n=3\n",
    "\n",
    "Most Dismilar:\n",
    "Majority of the books are disimilar to each other with a similarity Index of 0.000% when n=3, for example:\n",
    "article8.txt is similar to article40.txt with a Similarity Index of 0.000%\n",
    "article8.txt is similar to article9.txt with a Similarity Index of 0.000%\n",
    "article40.txt is similar to article36.txt with a Similarity Index of 0.000%\n",
    "\n",
    "###### A brief write-up explaining why and how you chose “n” for you analysis (for n-grams)\n",
    "By looking at the similarity plot, I saw a turning point show when n is around 3, which means similarity drop slows down when n=3;  also, for articles, especially short articles, big n usually lead to extremely small similarity. Thus, I think n=3 should be reasonable for my analysis.\n",
    "\n",
    "###### Was the “n” identical or different for books vs. articles and why\n",
    "Like I saw for the last question, 'n' for books ane articles should be different. For articles, the wrord count is relatively small, so a small 'n' will lead so a extremely small similarity, but for a book, a small n will only lead to picking up word terms that are not meaning for even they have a high similarity.Bigger n usually give more insights for the books and give better results.\n",
    "\n",
    "###### Visualize the selection of “n”\n",
    "Please refer to plot 'Similarity Across All Articles per N n-gram'"
   ]
  },
  {
   "cell_type": "markdown",
   "metadata": {},
   "source": [
    "### Determine which articles are similar to each other "
   ]
  },
  {
   "cell_type": "code",
   "execution_count": 97,
   "metadata": {},
   "outputs": [],
   "source": [
    "# Choose the best N for Ngram\n",
    "x = []\n",
    "y = []\n",
    "yall = []\n",
    "\n",
    "for n in range(2,20):\n",
    "        \n",
    "    books_comparison = compare_files(dir+'/Assignment 3 Books',ngram_size=n,threshold=-1)\n",
    "    a = np.zeros(len(books_comparison))\n",
    "    counter = 0\n",
    "    for key, value in books_comparison.items():\n",
    "        a[counter] = value\n",
    "        counter +=1\n",
    "    #print str(n) + \":\" + str(a.mean())\n",
    "    x.append(n)\n",
    "    yall.append(a*100)\n",
    "    y.append(a.mean()*100)\n"
   ]
  },
  {
   "cell_type": "code",
   "execution_count": 98,
   "metadata": {},
   "outputs": [
    {
     "data": {
      "image/png": "[encoded data removed]",
      "text/plain": [
       "<Figure size 432x288 with 1 Axes>"
      ]
     },
     "metadata": {
      "needs_background": "light"
     },
     "output_type": "display_data"
    }
   ],
   "source": [
    "plt.plot(x,y, linestyle = '-')\n",
    "#plt.plot(x,yall, linestyle = '--')\n",
    "plt.xlabel('n in n-grams')\n",
    "plt.ylabel('Similarity (pct)')\n",
    "plt.title('Similarity Across All Books per N n-gram')\n",
    "plt.grid()\n",
    "plt.show()\n",
    "\n",
    "#I choose n=4"
   ]
  },
  {
   "cell_type": "markdown",
   "metadata": {},
   "source": [
    "###### Books measuring similarity"
   ]
  },
  {
   "cell_type": "code",
   "execution_count": 105,
   "metadata": {},
   "outputs": [
    {
     "name": "stdout",
     "output_type": "stream",
     "text": [
      "1\n",
      "Adventures_of_Sherlock_Holmes.txt is similar to Return_of_Sherlock_Holmes.txt with a Similarity Index of 2.332%\n",
      "\n",
      "\n",
      "1\n",
      "Adventures_of_Sherlock_Holmes.txt is similar to Hound_of_the_Baskervilles.txt with a Similarity Index of 2.444%\n",
      "\n",
      "\n",
      "1\n",
      "Adventures_of_Sherlock_Holmes.txt is similar to 3boat10.txt with a Similarity Index of 0.397%\n",
      "\n",
      "\n",
      "1\n",
      "Return_of_Sherlock_Holmes.txt is similar to Hound_of_the_Baskervilles.txt with a Similarity Index of 2.430%\n",
      "\n",
      "\n",
      "1\n",
      "Return_of_Sherlock_Holmes.txt is similar to 3boat10.txt with a Similarity Index of 0.356%\n",
      "\n",
      "\n",
      "1\n",
      "Hound_of_the_Baskervilles.txt is similar to 3boat10.txt with a Similarity Index of 0.292%\n",
      "\n",
      "\n"
     ]
    }
   ],
   "source": [
    "books_comparison = compare_files(dir+'/Assignment 3 Books',ngram_size=4,threshold=-1)\n",
    "\n",
    "\n",
    "for k,v in books_comparison.items():\n",
    "    book1, book2 = k.split(',')\n",
    "    similarity_index = v\n",
    "    print (\"1\")\n",
    "    print (str(book1) + \" is similar to \" + str(book2) + \n",
    "           \" with a Similarity Index of \" + '{percent:.3%}'.format(percent=similarity_index) +\"\\n\" +\"\\n\")"
   ]
  },
  {
   "cell_type": "markdown",
   "metadata": {},
   "source": [
    "### Questions Answer(Books part) :\n",
    "###### Which articles / books were similar and which ones were dissimilar?\n",
    "Similar:\n",
    "Adventures_of_Sherlock_Holmes.txt is similar to Hound_of_the_Baskervilles.txt with a Similarity Index of 2.444% when n=4\n",
    "Return_of_Sherlock_Holmes.txt is similar to Hound_of_the_Baskervilles.txt with a Similarity Index of 2.430% when n=4\n",
    "Adventures_of_Sherlock_Holmes.txt is similar to Return_of_Sherlock_Holmes.txt with a Similarity Index of 2.332% when n=4\n",
    "\n",
    "Most Dismilar:\n",
    "Hound_of_the_Baskervilles.txt is similar to 3boat10.txt with a Similarity Index of 0.292% when n=4\n",
    "Return_of_Sherlock_Holmes.txt is similar to 3boat10.txt with a Similarity Index of 0.356% when n=4\n",
    "Adventures_of_Sherlock_Holmes.txt is similar to 3boat10.txt with a Similarity Index of 0.397% when n=4\n",
    "\n",
    "\n",
    "###### A brief write-up explaining why and how you chose “n” for you analysis (for n-grams)\n",
    "By looking at the similarity plot, I saw a turning point show when n is around 4, which means similarity drop slows down when n is around 4;  also, for books, it is good to have a bigger 'n' than the 'n' for article analysis purpose. Bigger n usually give more insights for the books and give better results. Thus, I think n=4 should be reasonable for my analysis.\n",
    "\n",
    "###### Was the “n” identical or different for books vs. articles and why\n",
    "Like I saw for the last question, 'n' for books ane articles should be different. For articles, the wrord count is relatively small, so a small 'n' will lead so a extremely small similarity, but for a book, a small n will only lead to picking up word terms that are not meaning for even they have a high similarity. Bigger n usually give more insights for the books and give better results.\n",
    "###### Visualize the selection of “n”\n",
    "Please refer to plot 'Similarity Across All Books per N n-gram'"
   ]
  }
 ],
 "metadata": {
  "kernelspec": {
   "display_name": "Python 3",
   "language": "python",
   "name": "python3"
  },
  "language_info": {
   "codemirror_mode": {
    "name": "ipython",
    "version": 3
   },
   "file_extension": ".py",
   "mimetype": "text/x-python",
   "name": "python",
   "nbconvert_exporter": "python",
   "pygments_lexer": "ipython3",
   "version": "3.7.3"
  }
 },
 "nbformat": 4,
 "nbformat_minor": 2
}
